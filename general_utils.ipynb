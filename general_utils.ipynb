{
 "cells": [
  {
   "cell_type": "code",
   "execution_count": null,
   "id": "21385639-fd8b-416c-a216-378235205d52",
   "metadata": {},
   "outputs": [],
   "source": [
    "import os\n",
    "from pathlib import Path\n",
    "\n",
    "def remove_empty_files(start_path):\n",
    "    '''\n",
    "    Removes all files with zero size from a folder and all its subfolders recursively.\n",
    "    \n",
    "    Example usage: removing corrupted image files after downloading them from the Internet.\n",
    "    \n",
    "    -----\n",
    "    Args:\n",
    "        start_path (str or Path): path to folder\n",
    "    '''\n",
    "    \n",
    "    for dirpath, dirnames, filenames in os.walk(start_path):\n",
    "        for f in filenames:\n",
    "            fp = Path(dirpath) / f\n",
    "            if not fp.stat().st_size:\n",
    "                fp.unlink()"
   ]
  },
  {
   "cell_type": "code",
   "execution_count": 14,
   "id": "cef41d69-b608-407f-8842-5058d4e085f9",
   "metadata": {
    "tags": []
   },
   "outputs": [],
   "source": [
    "import os\n",
    "\n",
    "def get_folder_size(start_path='.', size_type='MB'):\n",
    "    '''\n",
    "    Calculates size of the specified folder.\n",
    "    \n",
    "    -----\n",
    "    Args:\n",
    "        start_path (str or Path): path to folder\n",
    "        size_type (str): unit to use for the returned size, defaults to megabytes if the parameter is not specified or received an invalid value\n",
    "            possible values:\n",
    "                'B': return size in bytes\n",
    "                'KB': return size in kilobytes\n",
    "                'MB': return size in megabytes\n",
    "                'GB': return size in gigabytes\n",
    "        prefix (str or Path): path to folder in s3, defaults to empty string to list all files in the bucket\n",
    "\n",
    "    Returns:\n",
    "        total_size (float): size of the folder in selected unit\n",
    "    '''\n",
    "    \n",
    "    valid_size_types = {\n",
    "        \"B\": 1,\n",
    "        \"KB\": 1024,\n",
    "        \"MB\": 1024 * 1024,\n",
    "        \"GB\": 1024 * 1024 * 1024\n",
    "    }\n",
    "    \n",
    "    total_size = 0\n",
    "    for dirpath, dirnames, filenames in os.walk(start_path):\n",
    "        for f in filenames:\n",
    "            fp = os.path.join(dirpath, f)\n",
    "            # skip if it is a symbolic link\n",
    "            if not os.path.islink(fp):\n",
    "                total_size += os.path.getsize(fp)\n",
    "    total_size = total_size / valid_size_types[size_type] if size_type in valid_size_types.keys() else valid_size_types['MB']\n",
    "    return total_size"
   ]
  }
 ],
 "metadata": {
  "kernelspec": {
   "display_name": "Python 3 (ipykernel)",
   "language": "python",
   "name": "python3"
  },
  "language_info": {
   "codemirror_mode": {
    "name": "ipython",
    "version": 3
   },
   "file_extension": ".py",
   "mimetype": "text/x-python",
   "name": "python",
   "nbconvert_exporter": "python",
   "pygments_lexer": "ipython3",
   "version": "3.11.5"
  }
 },
 "nbformat": 4,
 "nbformat_minor": 5
}
